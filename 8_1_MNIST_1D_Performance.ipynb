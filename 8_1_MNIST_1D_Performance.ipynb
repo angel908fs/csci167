{
  "cells": [
    {
      "cell_type": "markdown",
      "metadata": {
        "colab_type": "text",
        "id": "view-in-github"
      },
      "source": [
        "<a href=\"https://colab.research.google.com/github/udlbook/udlbook/blob/main/Notebooks/Chap08/8_1_MNIST_1D_Performance.ipynb\" target=\"_parent\"><img src=\"https://colab.research.google.com/assets/colab-badge.svg\" alt=\"Open In Colab\"/></a>"
      ]
    },
    {
      "cell_type": "markdown",
      "metadata": {
        "id": "L6chybAVFJW2"
      },
      "source": [
        "# **Notebook 8.1: MNIST_1D_Performance**\n",
        "\n",
        "This notebook runs a simple neural network on the MNIST1D dataset as in figure 8.2a. It uses code from https://github.com/greydanus/mnist1d to generate the data.\n",
        "\n",
        "Work through the cells below, running each cell in turn. In various places you will see the words \"TO DO\". Follow the instructions at these places and make predictions about what is going to happen or write code to complete the functions.\n",
        "\n",
        "Contact me at udlbookmail@gmail.com if you find any mistakes or have any suggestions."
      ]
    },
    {
      "cell_type": "code",
      "execution_count": 1,
      "metadata": {
        "id": "ifVjS4cTOqKz"
      },
      "outputs": [
        {
          "name": "stdout",
          "output_type": "stream",
          "text": [
            "Collecting git+https://github.com/greydanus/mnist1d\n",
            "  Cloning https://github.com/greydanus/mnist1d to /private/var/folders/l_/lbsh3ytx0flgt6586dy7c22r0000gn/T/pip-req-build-qd0nrbvk\n",
            "  Running command git clone --filter=blob:none --quiet https://github.com/greydanus/mnist1d /private/var/folders/l_/lbsh3ytx0flgt6586dy7c22r0000gn/T/pip-req-build-qd0nrbvk\n",
            "  Resolved https://github.com/greydanus/mnist1d to commit 68cb6b2d1d3a956cc2e9035e5a9860b66e33d642\n",
            "  Installing build dependencies ... \u001b[?25ldone\n",
            "\u001b[?25h  Getting requirements to build wheel ... \u001b[?25ldone\n",
            "\u001b[?25h  Preparing metadata (pyproject.toml) ... \u001b[?25ldone\n",
            "\u001b[?25hRequirement already satisfied: requests in /opt/miniconda3/envs/cs/lib/python3.12/site-packages (from mnist1d==0.0.2.post15) (2.32.3)\n",
            "Requirement already satisfied: numpy in /opt/miniconda3/envs/cs/lib/python3.12/site-packages (from mnist1d==0.0.2.post15) (2.1.0)\n",
            "Requirement already satisfied: matplotlib in /opt/miniconda3/envs/cs/lib/python3.12/site-packages (from mnist1d==0.0.2.post15) (3.9.2)\n",
            "Requirement already satisfied: scipy in /opt/miniconda3/envs/cs/lib/python3.12/site-packages (from mnist1d==0.0.2.post15) (1.14.1)\n",
            "Requirement already satisfied: contourpy>=1.0.1 in /opt/miniconda3/envs/cs/lib/python3.12/site-packages (from matplotlib->mnist1d==0.0.2.post15) (1.2.1)\n",
            "Requirement already satisfied: cycler>=0.10 in /opt/miniconda3/envs/cs/lib/python3.12/site-packages (from matplotlib->mnist1d==0.0.2.post15) (0.12.1)\n",
            "Requirement already satisfied: fonttools>=4.22.0 in /opt/miniconda3/envs/cs/lib/python3.12/site-packages (from matplotlib->mnist1d==0.0.2.post15) (4.53.1)\n",
            "Requirement already satisfied: kiwisolver>=1.3.1 in /opt/miniconda3/envs/cs/lib/python3.12/site-packages (from matplotlib->mnist1d==0.0.2.post15) (1.4.5)\n",
            "Requirement already satisfied: packaging>=20.0 in /opt/miniconda3/envs/cs/lib/python3.12/site-packages (from matplotlib->mnist1d==0.0.2.post15) (24.1)\n",
            "Requirement already satisfied: pillow>=8 in /opt/miniconda3/envs/cs/lib/python3.12/site-packages (from matplotlib->mnist1d==0.0.2.post15) (10.4.0)\n",
            "Requirement already satisfied: pyparsing>=2.3.1 in /opt/miniconda3/envs/cs/lib/python3.12/site-packages (from matplotlib->mnist1d==0.0.2.post15) (3.1.4)\n",
            "Requirement already satisfied: python-dateutil>=2.7 in /opt/miniconda3/envs/cs/lib/python3.12/site-packages (from matplotlib->mnist1d==0.0.2.post15) (2.9.0)\n",
            "Requirement already satisfied: charset-normalizer<4,>=2 in /opt/miniconda3/envs/cs/lib/python3.12/site-packages (from requests->mnist1d==0.0.2.post15) (3.3.2)\n",
            "Requirement already satisfied: idna<4,>=2.5 in /opt/miniconda3/envs/cs/lib/python3.12/site-packages (from requests->mnist1d==0.0.2.post15) (3.10)\n",
            "Requirement already satisfied: urllib3<3,>=1.21.1 in /opt/miniconda3/envs/cs/lib/python3.12/site-packages (from requests->mnist1d==0.0.2.post15) (2.2.3)\n",
            "Requirement already satisfied: certifi>=2017.4.17 in /opt/miniconda3/envs/cs/lib/python3.12/site-packages (from requests->mnist1d==0.0.2.post15) (2024.8.30)\n",
            "Requirement already satisfied: six>=1.5 in /opt/miniconda3/envs/cs/lib/python3.12/site-packages (from python-dateutil>=2.7->matplotlib->mnist1d==0.0.2.post15) (1.16.0)\n",
            "Note: you may need to restart the kernel to use updated packages.\n"
          ]
        }
      ],
      "source": [
        "# Run this if you're in a Colab to install MNIST 1D repository\n",
        "%pip install git+https://github.com/greydanus/mnist1d"
      ]
    },
    {
      "cell_type": "code",
      "execution_count": 2,
      "metadata": {
        "id": "qyE7G1StPIqO"
      },
      "outputs": [],
      "source": [
        "import torch, torch.nn as nn\n",
        "from torch.utils.data import TensorDataset, DataLoader\n",
        "from torch.optim.lr_scheduler import StepLR\n",
        "import numpy as np\n",
        "import matplotlib.pyplot as plt\n",
        "import mnist1d"
      ]
    },
    {
      "cell_type": "markdown",
      "metadata": {
        "id": "F7LNq72SP6jO"
      },
      "source": [
        "Let's generate a training and test dataset using the MNIST1D code.  The dataset gets saved as a .pkl file so it doesn't have to be regenerated each time."
      ]
    },
    {
      "cell_type": "code",
      "execution_count": 3,
      "metadata": {
        "id": "YLxf7dJfPaqw"
      },
      "outputs": [
        {
          "name": "stdout",
          "output_type": "stream",
          "text": [
            "Successfully loaded data from ./mnist1d_data.pkl\n",
            "Examples in training set: 4000\n",
            "Examples in test set: 1000\n",
            "Length of each example: 40\n"
          ]
        }
      ],
      "source": [
        "args = mnist1d.data.get_dataset_args()\n",
        "data = mnist1d.data.get_dataset(args, path='./mnist1d_data.pkl', download=False, regenerate=False)\n",
        "\n",
        "# The training and test input and outputs are in\n",
        "# data['x'], data['y'], data['x_test'], and data['y_test']\n",
        "print(\"Examples in training set: {}\".format(len(data['y'])))\n",
        "print(\"Examples in test set: {}\".format(len(data['y_test'])))\n",
        "print(\"Length of each example: {}\".format(data['x'].shape[-1]))"
      ]
    },
    {
      "cell_type": "code",
      "execution_count": 4,
      "metadata": {
        "id": "FxaB5vc0uevl"
      },
      "outputs": [
        {
          "name": "stdout",
          "output_type": "stream",
          "text": [
            "Initializing layer\n",
            "Initializing layer\n",
            "Initializing layer\n",
            "Initializing layer\n",
            "Initializing layer\n",
            "Initializing layer\n"
          ]
        },
        {
          "name": "stderr",
          "output_type": "stream",
          "text": [
            "/var/folders/l_/lbsh3ytx0flgt6586dy7c22r0000gn/T/ipykernel_91028/2976349567.py:22: FutureWarning: `nn.init.kaiming_normal` is now deprecated in favor of `nn.init.kaiming_normal_`.\n",
            "  nn.init.kaiming_normal(layer_in.weight)\n"
          ]
        },
        {
          "data": {
            "text/plain": [
              "Sequential(\n",
              "  (0): Linear(in_features=40, out_features=500, bias=True)\n",
              "  (1): ReLU()\n",
              "  (2): Linear(in_features=500, out_features=500, bias=True)\n",
              "  (3): ReLU()\n",
              "  (4): Linear(in_features=500, out_features=10, bias=True)\n",
              ")"
            ]
          },
          "execution_count": 4,
          "metadata": {},
          "output_type": "execute_result"
        }
      ],
      "source": [
        "D_i = 40    # Input dimensions\n",
        "D_k = 500   # Hidden dimensions\n",
        "D_o = 10    # Output dimensions\n",
        "# TO DO:\n",
        "# Define a model with two hidden layers of size 100\n",
        "# And ReLU activations between them\n",
        "# Replace this line (see Figure 7.8 of book for help):\n",
        "model = nn.Sequential(\n",
        "  nn.Linear(D_i, D_k),\n",
        "  nn.ReLU(),\n",
        "  nn.Linear(D_k, D_k),\n",
        "  nn.ReLU(),\n",
        "  nn.Linear(D_k, D_o))\n",
        "\n",
        "\n",
        "def weights_init(layer_in):\n",
        "  # TO DO:\n",
        "  # Initialize the parameters with He initialization\n",
        "  # Replace this line (see figure 7.8 of book for help)\n",
        "  print(\"Initializing layer\")\n",
        "  if isinstance(layer_in, nn.Linear):\n",
        "    nn.init.kaiming_normal(layer_in.weight)\n",
        "    layer_in.bias.data.fill_(0.0)\n",
        "\n",
        "\n",
        "# Call the function you just defined\n",
        "model.apply(weights_init)\n"
      ]
    },
    {
      "cell_type": "code",
      "execution_count": 5,
      "metadata": {
        "id": "_rX6N3VyyQTY"
      },
      "outputs": [
        {
          "name": "stdout",
          "output_type": "stream",
          "text": [
            "Initializing layer\n",
            "Initializing layer\n",
            "Initializing layer\n",
            "Initializing layer\n",
            "Initializing layer\n",
            "Initializing layer\n",
            "Epoch     0, train loss 1.413283, train error 52.33,  test loss 1.524904, test error 62.60\n"
          ]
        },
        {
          "name": "stderr",
          "output_type": "stream",
          "text": [
            "/var/folders/l_/lbsh3ytx0flgt6586dy7c22r0000gn/T/ipykernel_91028/2976349567.py:22: FutureWarning: `nn.init.kaiming_normal` is now deprecated in favor of `nn.init.kaiming_normal_`.\n",
            "  nn.init.kaiming_normal(layer_in.weight)\n"
          ]
        },
        {
          "name": "stdout",
          "output_type": "stream",
          "text": [
            "Epoch     1, train loss 1.087660, train error 38.90,  test loss 1.334002, test error 52.80\n",
            "Epoch     2, train loss 0.847928, train error 29.25,  test loss 1.206386, test error 45.80\n",
            "Epoch     3, train loss 0.671210, train error 23.50,  test loss 1.160954, test error 43.20\n",
            "Epoch     4, train loss 0.510611, train error 15.68,  test loss 1.101041, test error 41.20\n",
            "Epoch     5, train loss 0.383095, train error 10.65,  test loss 1.085224, test error 40.80\n",
            "Epoch     6, train loss 0.306935, train error 8.40,  test loss 1.082905, test error 40.10\n",
            "Epoch     7, train loss 0.202694, train error 4.78,  test loss 1.063168, test error 36.60\n",
            "Epoch     8, train loss 0.180422, train error 4.47,  test loss 1.155541, test error 37.80\n",
            "Epoch     9, train loss 0.102190, train error 1.00,  test loss 1.107910, test error 36.60\n",
            "Epoch    10, train loss 0.058008, train error 0.05,  test loss 1.056701, test error 33.90\n",
            "Epoch    11, train loss 0.044115, train error 0.00,  test loss 1.055702, test error 34.90\n",
            "Epoch    12, train loss 0.036888, train error 0.00,  test loss 1.062750, test error 34.30\n",
            "Epoch    13, train loss 0.031934, train error 0.00,  test loss 1.084640, test error 35.20\n",
            "Epoch    14, train loss 0.028337, train error 0.00,  test loss 1.093997, test error 35.00\n",
            "Epoch    15, train loss 0.024937, train error 0.00,  test loss 1.103047, test error 34.90\n",
            "Epoch    16, train loss 0.022736, train error 0.00,  test loss 1.110323, test error 34.50\n",
            "Epoch    17, train loss 0.021082, train error 0.00,  test loss 1.131627, test error 35.60\n",
            "Epoch    18, train loss 0.019315, train error 0.00,  test loss 1.136850, test error 34.50\n",
            "Epoch    19, train loss 0.017729, train error 0.00,  test loss 1.139181, test error 34.70\n",
            "Epoch    20, train loss 0.016983, train error 0.00,  test loss 1.142183, test error 34.50\n",
            "Epoch    21, train loss 0.016373, train error 0.00,  test loss 1.148234, test error 34.70\n",
            "Epoch    22, train loss 0.015832, train error 0.00,  test loss 1.150822, test error 34.80\n",
            "Epoch    23, train loss 0.015383, train error 0.00,  test loss 1.156115, test error 34.50\n",
            "Epoch    24, train loss 0.014866, train error 0.00,  test loss 1.158897, test error 35.00\n",
            "Epoch    25, train loss 0.014416, train error 0.00,  test loss 1.161782, test error 35.00\n",
            "Epoch    26, train loss 0.014023, train error 0.00,  test loss 1.165311, test error 34.80\n",
            "Epoch    27, train loss 0.013628, train error 0.00,  test loss 1.169654, test error 34.50\n",
            "Epoch    28, train loss 0.013235, train error 0.00,  test loss 1.171138, test error 34.30\n",
            "Epoch    29, train loss 0.012867, train error 0.00,  test loss 1.176267, test error 35.00\n",
            "Epoch    30, train loss 0.012676, train error 0.00,  test loss 1.177948, test error 34.60\n",
            "Epoch    31, train loss 0.012513, train error 0.00,  test loss 1.179116, test error 34.70\n",
            "Epoch    32, train loss 0.012344, train error 0.00,  test loss 1.179908, test error 34.60\n",
            "Epoch    33, train loss 0.012189, train error 0.00,  test loss 1.182934, test error 34.80\n",
            "Epoch    34, train loss 0.012034, train error 0.00,  test loss 1.183245, test error 34.60\n",
            "Epoch    35, train loss 0.011884, train error 0.00,  test loss 1.184696, test error 34.30\n",
            "Epoch    36, train loss 0.011736, train error 0.00,  test loss 1.187094, test error 34.80\n",
            "Epoch    37, train loss 0.011593, train error 0.00,  test loss 1.188086, test error 34.50\n",
            "Epoch    38, train loss 0.011456, train error 0.00,  test loss 1.188795, test error 35.00\n",
            "Epoch    39, train loss 0.011315, train error 0.00,  test loss 1.190964, test error 34.70\n",
            "Epoch    40, train loss 0.011245, train error 0.00,  test loss 1.191971, test error 34.80\n",
            "Epoch    41, train loss 0.011177, train error 0.00,  test loss 1.192326, test error 34.80\n",
            "Epoch    42, train loss 0.011111, train error 0.00,  test loss 1.192779, test error 34.70\n",
            "Epoch    43, train loss 0.011046, train error 0.00,  test loss 1.193437, test error 34.80\n",
            "Epoch    44, train loss 0.010981, train error 0.00,  test loss 1.194806, test error 34.80\n",
            "Epoch    45, train loss 0.010917, train error 0.00,  test loss 1.195145, test error 34.80\n",
            "Epoch    46, train loss 0.010855, train error 0.00,  test loss 1.195265, test error 34.70\n",
            "Epoch    47, train loss 0.010793, train error 0.00,  test loss 1.196660, test error 34.80\n",
            "Epoch    48, train loss 0.010731, train error 0.00,  test loss 1.196853, test error 34.80\n",
            "Epoch    49, train loss 0.010670, train error 0.00,  test loss 1.198039, test error 34.70\n"
          ]
        }
      ],
      "source": [
        "# choose cross entropy loss function (equation 5.24)\n",
        "loss_function = torch.nn.CrossEntropyLoss()\n",
        "# construct SGD optimizer and initialize learning rate and momentum\n",
        "optimizer = torch.optim.SGD(model.parameters(), lr = 0.05, momentum=0.9)\n",
        "# object that decreases learning rate by half every 10 epochs\n",
        "scheduler = StepLR(optimizer, step_size=10, gamma=0.5)\n",
        "x_train = torch.tensor(data['x'].astype('float32'))\n",
        "y_train = torch.tensor(data['y'].transpose().astype('int64'))\n",
        "x_test= torch.tensor(data['x_test'].astype('float32'))\n",
        "y_test = torch.tensor(data['y_test'].astype('int64'))\n",
        "\n",
        "# load the data into a class that creates the batches\n",
        "data_loader = DataLoader(TensorDataset(x_train,y_train), batch_size=100, shuffle=True, worker_init_fn=np.random.seed(1))\n",
        "\n",
        "# Initialize model weights\n",
        "model.apply(weights_init)\n",
        "\n",
        "# loop over the dataset n_epoch times\n",
        "n_epoch = 50\n",
        "# store the loss and the % correct at each epoch\n",
        "losses_train = np.zeros((n_epoch))\n",
        "errors_train = np.zeros((n_epoch))\n",
        "losses_test = np.zeros((n_epoch))\n",
        "errors_test = np.zeros((n_epoch))\n",
        "\n",
        "for epoch in range(n_epoch):\n",
        "  # loop over batches\n",
        "  for i, batch in enumerate(data_loader):\n",
        "    # retrieve inputs and labels for this batch\n",
        "    x_batch, y_batch = batch\n",
        "    # zero the parameter gradients\n",
        "    optimizer.zero_grad()\n",
        "    # forward pass -- calculate model output\n",
        "    pred = model(x_batch)\n",
        "    # compute the loss\n",
        "    loss = loss_function(pred, y_batch)\n",
        "    # backward pass\n",
        "    loss.backward()\n",
        "    # SGD update\n",
        "    optimizer.step()\n",
        "\n",
        "  # Run whole dataset to get statistics -- normally wouldn't do this\n",
        "  pred_train = model(x_train)\n",
        "  pred_test = model(x_test)\n",
        "  _, predicted_train_class = torch.max(pred_train.data, 1)\n",
        "  _, predicted_test_class = torch.max(pred_test.data, 1)\n",
        "  errors_train[epoch] = 100 - 100 * (predicted_train_class == y_train).float().sum() / len(y_train)\n",
        "  errors_test[epoch]= 100 - 100 * (predicted_test_class == y_test).float().sum() / len(y_test)\n",
        "  losses_train[epoch] = loss_function(pred_train, y_train).item()\n",
        "  losses_test[epoch]= loss_function(pred_test, y_test).item()\n",
        "  print(f'Epoch {epoch:5d}, train loss {losses_train[epoch]:.6f}, train error {errors_train[epoch]:3.2f},  test loss {losses_test[epoch]:.6f}, test error {errors_test[epoch]:3.2f}')\n",
        "\n",
        "  # tell scheduler to consider updating learning rate\n",
        "  scheduler.step()"
      ]
    },
    {
      "cell_type": "code",
      "execution_count": 6,
      "metadata": {
        "id": "yI-l6kA_EH9G"
      },
      "outputs": [
        {
          "data": {
            "image/png": "[encoded data removed]",
            "text/plain": [
              "<Figure size 640x480 with 1 Axes>"
            ]
          },
          "metadata": {},
          "output_type": "display_data"
        },
        {
          "data": {
            "image/png": "[encoded data removed]",
            "text/plain": [
              "<Figure size 640x480 with 1 Axes>"
            ]
          },
          "metadata": {},
          "output_type": "display_data"
        }
      ],
      "source": [
        "# Plot the results\n",
        "fig, ax = plt.subplots()\n",
        "ax.plot(errors_train,'r-',label='train')\n",
        "ax.plot(errors_test,'b-',label='test')\n",
        "ax.set_ylim(0,100); ax.set_xlim(0,n_epoch)\n",
        "ax.set_xlabel('Epoch'); ax.set_ylabel('Error')\n",
        "ax.set_title('TrainError %3.2f, Test Error %3.2f'%(errors_train[-1],errors_test[-1]))\n",
        "ax.legend()\n",
        "plt.show()\n",
        "\n",
        "# Plot the results\n",
        "fig, ax = plt.subplots()\n",
        "ax.plot(losses_train,'r-',label='train')\n",
        "ax.plot(losses_test,'b-',label='test')\n",
        "ax.set_xlim(0,n_epoch)\n",
        "ax.set_xlabel('Epoch'); ax.set_ylabel('Loss')\n",
        "ax.set_title('Train loss %3.2f, Test loss %3.2f'%(losses_train[-1],losses_test[-1]))\n",
        "ax.legend()\n",
        "plt.show()"
      ]
    },
    {
      "cell_type": "markdown",
      "metadata": {
        "id": "q-yT6re6GZS4"
      },
      "source": [
        "**TO DO**\n",
        "\n",
        "Play with the model -- try changing the number of layers, hidden units, learning rate, batch size, momentum or anything else you like.  See if you can improve the test results.\n",
        "\n",
        "Is it a good idea to optimize the hyperparameters in this way?  Will the final result be a good estimate of the true test performance?\n",
        "\n",
        "It is not a good idea since it's pretty much just guessing, it is better to optimize parameters based on performance and what we know works\n",
        "Whether if the final result will be a good estimate of the true tests performance or not depends on how robust the model and the training data are, as well as how good the training process was"
      ]
    },
    {
      "cell_type": "code",
      "execution_count": null,
      "metadata": {},
      "outputs": [],
      "source": []
    }
  ],
  "metadata": {
    "accelerator": "GPU",
    "colab": {
      "authorship_tag": "ABX9TyOuKMUcKfOIhIL2qTX9jJCy",
      "gpuType": "T4",
      "include_colab_link": true,
      "provenance": []
    },
    "kernelspec": {
      "display_name": "cs",
      "language": "python",
      "name": "python3"
    },
    "language_info": {
      "codemirror_mode": {
        "name": "ipython",
        "version": 3
      },
      "file_extension": ".py",
      "mimetype": "text/x-python",
      "name": "python",
      "nbconvert_exporter": "python",
      "pygments_lexer": "ipython3",
      "version": "3.12.4"
    }
  },
  "nbformat": 4,
  "nbformat_minor": 0
}
