{
  "cells": [
    {
      "cell_type": "markdown",
      "metadata": {
        "colab_type": "text",
        "id": "view-in-github"
      },
      "source": [
        "<a href=\"https://colab.research.google.com/github/udlbook/udlbook/blob/main/Notebooks/Chap10/10_2_Convolution_for_MNIST_1D.ipynb\" target=\"_parent\"><img src=\"https://colab.research.google.com/assets/colab-badge.svg\" alt=\"Open In Colab\"/></a>"
      ]
    },
    {
      "cell_type": "markdown",
      "metadata": {
        "id": "t9vk9Elugvmi"
      },
      "source": [
        "# **Notebook 10.2: Convolution for MNIST-1D**\n",
        "\n",
        "This notebook investigates a 1D convolutional network for MNIST-1D as in figure 10.7 and 10.8a.\n",
        "\n",
        "Work through the cells below, running each cell in turn. In various places you will see the words \"TO DO\". Follow the instructions at these places and make predictions about what is going to happen or write code to complete the functions.\n",
        "\n",
        "Contact me at udlbookmail@gmail.com if you find any mistakes or have any suggestions.\n",
        "\n"
      ]
    },
    {
      "cell_type": "code",
      "execution_count": 29,
      "metadata": {
        "id": "D5yLObtZCi9J"
      },
      "outputs": [
        {
          "name": "stdout",
          "output_type": "stream",
          "text": [
            "Collecting git+https://github.com/greydanus/mnist1d\n",
            "  Cloning https://github.com/greydanus/mnist1d to /private/var/folders/l_/lbsh3ytx0flgt6586dy7c22r0000gn/T/pip-req-build-t8q2ugdj\n",
            "  Running command git clone --filter=blob:none --quiet https://github.com/greydanus/mnist1d /private/var/folders/l_/lbsh3ytx0flgt6586dy7c22r0000gn/T/pip-req-build-t8q2ugdj\n",
            "  Resolved https://github.com/greydanus/mnist1d to commit 7878d96082abd200c546a07a4101fa90b30fdf7e\n",
            "  Installing build dependencies ... \u001b[?25ldone\n",
            "\u001b[?25h  Getting requirements to build wheel ... \u001b[?25ldone\n",
            "\u001b[?25h  Preparing metadata (pyproject.toml) ... \u001b[?25ldone\n",
            "\u001b[?25hRequirement already satisfied: requests in /opt/miniconda3/envs/cs/lib/python3.12/site-packages (from mnist1d==0.0.2.post16) (2.32.3)\n",
            "Requirement already satisfied: numpy in /opt/miniconda3/envs/cs/lib/python3.12/site-packages (from mnist1d==0.0.2.post16) (2.1.0)\n",
            "Requirement already satisfied: matplotlib in /opt/miniconda3/envs/cs/lib/python3.12/site-packages (from mnist1d==0.0.2.post16) (3.9.2)\n",
            "Requirement already satisfied: scipy in /opt/miniconda3/envs/cs/lib/python3.12/site-packages (from mnist1d==0.0.2.post16) (1.14.1)\n",
            "Requirement already satisfied: contourpy>=1.0.1 in /opt/miniconda3/envs/cs/lib/python3.12/site-packages (from matplotlib->mnist1d==0.0.2.post16) (1.2.1)\n",
            "Requirement already satisfied: cycler>=0.10 in /opt/miniconda3/envs/cs/lib/python3.12/site-packages (from matplotlib->mnist1d==0.0.2.post16) (0.12.1)\n",
            "Requirement already satisfied: fonttools>=4.22.0 in /opt/miniconda3/envs/cs/lib/python3.12/site-packages (from matplotlib->mnist1d==0.0.2.post16) (4.53.1)\n",
            "Requirement already satisfied: kiwisolver>=1.3.1 in /opt/miniconda3/envs/cs/lib/python3.12/site-packages (from matplotlib->mnist1d==0.0.2.post16) (1.4.5)\n",
            "Requirement already satisfied: packaging>=20.0 in /opt/miniconda3/envs/cs/lib/python3.12/site-packages (from matplotlib->mnist1d==0.0.2.post16) (24.1)\n",
            "Requirement already satisfied: pillow>=8 in /opt/miniconda3/envs/cs/lib/python3.12/site-packages (from matplotlib->mnist1d==0.0.2.post16) (10.4.0)\n",
            "Requirement already satisfied: pyparsing>=2.3.1 in /opt/miniconda3/envs/cs/lib/python3.12/site-packages (from matplotlib->mnist1d==0.0.2.post16) (3.1.4)\n",
            "Requirement already satisfied: python-dateutil>=2.7 in /opt/miniconda3/envs/cs/lib/python3.12/site-packages (from matplotlib->mnist1d==0.0.2.post16) (2.9.0)\n",
            "Requirement already satisfied: charset-normalizer<4,>=2 in /opt/miniconda3/envs/cs/lib/python3.12/site-packages (from requests->mnist1d==0.0.2.post16) (3.3.2)\n",
            "Requirement already satisfied: idna<4,>=2.5 in /opt/miniconda3/envs/cs/lib/python3.12/site-packages (from requests->mnist1d==0.0.2.post16) (3.10)\n",
            "Requirement already satisfied: urllib3<3,>=1.21.1 in /opt/miniconda3/envs/cs/lib/python3.12/site-packages (from requests->mnist1d==0.0.2.post16) (2.2.3)\n",
            "Requirement already satisfied: certifi>=2017.4.17 in /opt/miniconda3/envs/cs/lib/python3.12/site-packages (from requests->mnist1d==0.0.2.post16) (2024.8.30)\n",
            "Requirement already satisfied: six>=1.5 in /opt/miniconda3/envs/cs/lib/python3.12/site-packages (from python-dateutil>=2.7->matplotlib->mnist1d==0.0.2.post16) (1.16.0)\n"
          ]
        }
      ],
      "source": [
        "# Run this if you're in a Colab to install MNIST 1D repository\n",
        "!pip install git+https://github.com/greydanus/mnist1d"
      ]
    },
    {
      "cell_type": "code",
      "execution_count": 30,
      "metadata": {
        "id": "YrXWAH7sUWvU"
      },
      "outputs": [],
      "source": [
        "import numpy as np\n",
        "import os\n",
        "import torch, torch.nn as nn\n",
        "from torch.utils.data import TensorDataset, DataLoader\n",
        "from torch.optim.lr_scheduler import StepLR\n",
        "import matplotlib.pyplot as plt\n",
        "import mnist1d\n",
        "import random"
      ]
    },
    {
      "cell_type": "code",
      "execution_count": 31,
      "metadata": {
        "id": "twI72ZCrCt5z"
      },
      "outputs": [
        {
          "name": "stdout",
          "output_type": "stream",
          "text": [
            "Successfully loaded data from ./mnist1d_data.pkl\n",
            "Examples in training set: 4000\n",
            "Examples in test set: 1000\n",
            "Length of each example: 40\n"
          ]
        }
      ],
      "source": [
        "args = mnist1d.data.get_dataset_args()\n",
        "data = mnist1d.data.get_dataset(args, path='./mnist1d_data.pkl', download=False, regenerate=False)\n",
        "\n",
        "# The training and test input and outputs are in\n",
        "# data['x'], data['y'], data['x_test'], and data['y_test']\n",
        "print(\"Examples in training set: {}\".format(len(data['y'])))\n",
        "print(\"Examples in test set: {}\".format(len(data['y_test'])))\n",
        "print(\"Length of each example: {}\".format(data['x'].shape[-1]))"
      ]
    },
    {
      "cell_type": "code",
      "execution_count": 32,
      "metadata": {
        "id": "8bKADvLHbiV5"
      },
      "outputs": [
        {
          "name": "stdout",
          "output_type": "stream",
          "text": [
            "Train data: 4000 examples (columns), each of which has 40 dimensions (rows)\n",
            "Validation data: 1000 examples (columns), each of which has 40 dimensions (rows)\n"
          ]
        }
      ],
      "source": [
        "# Load in the data\n",
        "train_data_x = data['x'].transpose()\n",
        "train_data_y = data['y']\n",
        "val_data_x = data['x_test'].transpose()\n",
        "val_data_y = data['y_test']\n",
        "# Print out sizes\n",
        "print(\"Train data: %d examples (columns), each of which has %d dimensions (rows)\"%((train_data_x.shape[1],train_data_x.shape[0])))\n",
        "print(\"Validation data: %d examples (columns), each of which has %d dimensions (rows)\"%((val_data_x.shape[1],val_data_x.shape[0])))"
      ]
    },
    {
      "cell_type": "markdown",
      "metadata": {
        "id": "_sFvRDGrl4qe"
      },
      "source": [
        "Define the network"
      ]
    },
    {
      "cell_type": "code",
      "execution_count": 33,
      "metadata": {
        "id": "FslroPJJffrh"
      },
      "outputs": [],
      "source": [
        "# There are 40 input dimensions and 10 output dimensions for this data\n",
        "# The inputs correspond to the 40 offsets in the MNIST1D template.\n",
        "D_i = 40\n",
        "# The outputs correspond to the 10 digits\n",
        "D_o = 10\n",
        "\n",
        "\n",
        "# TODO Create a model with the following layers\n",
        "# 1. Convolutional layer, (input=length 40 and 1 channel, kernel size 3, stride 2, padding=\"valid\", 15 output channels )\n",
        "# 2. ReLU\n",
        "# 3. Convolutional layer, (input=length 19 and 15 channels, kernel size 3, stride 2, padding=\"valid\", 15 output channels )\n",
        "# 4. ReLU\n",
        "# 5. Convolutional layer, (input=length 9 and 15 channels, kernel size 3, stride 2, padding=\"valid\", 15 output channels)\n",
        "# 6. ReLU\n",
        "# 7. Flatten (converts 4x15) to length 60\n",
        "# 8. Linear layer (input size = 60, output size = 10)\n",
        "# References:\n",
        "# https://pytorch.org/docs/1.13/generated/torch.nn.Conv1d.html?highlight=conv1d#torch.nn.Conv1d\n",
        "# https://pytorch.org/docs/stable/generated/torch.nn.Flatten.html\n",
        "# https://pytorch.org/docs/1.13/generated/torch.nn.Linear.html?highlight=linear#torch.nn.Linear\n",
        "\n",
        "# NOTE THAT THE CONVOLUTIONAL LAYERS NEED TO TAKE THE NUMBER OF INPUT CHANNELS AS A PARAMETER\n",
        "# AND NOT THE INPUT SIZE.\n",
        "\n",
        "# Replace the following function:\n",
        "model = nn.Sequential(\n",
        "    nn.Conv1d(in_channels=1, out_channels=15, kernel_size=3, stride=2, padding=\"valid\"),  \n",
        "    nn.ReLU(),    \n",
        "    \n",
        "    nn.Conv1d(in_channels=15, out_channels=15, kernel_size=3, stride=2, padding=\"valid\"), \n",
        "    nn.ReLU(),\n",
        "    \n",
        "    nn.Conv1d(in_channels=15, out_channels=15, kernel_size=3, stride=2, padding=\"valid\"), \n",
        "    nn.ReLU(),\n",
        "    \n",
        "    nn.Flatten(), \n",
        "    nn.Linear(60, 10)\n",
        ")\n",
        "\n",
        "\n",
        "\n"
      ]
    },
    {
      "cell_type": "code",
      "execution_count": 34,
      "metadata": {
        "id": "YgLaex1pfhqz"
      },
      "outputs": [],
      "source": [
        "# He initialization of weights\n",
        "def weights_init(layer_in):\n",
        "  if isinstance(layer_in, nn.Linear):\n",
        "    nn.init.kaiming_uniform_(layer_in.weight)\n",
        "    layer_in.bias.data.fill_(0.0)"
      ]
    },
    {
      "cell_type": "code",
      "execution_count": 35,
      "metadata": {
        "id": "NYw8I_3mmX5c"
      },
      "outputs": [
        {
          "name": "stdout",
          "output_type": "stream",
          "text": [
            "Epoch     0, train loss 2.176730, train error 79.85,  val loss 2.180285, percent error 81.40\n",
            "Epoch     1, train loss 1.595608, train error 61.85,  val loss 1.641440, percent error 68.10\n",
            "Epoch     2, train loss 1.366975, train error 55.62,  val loss 1.380386, percent error 57.10\n",
            "Epoch     3, train loss 1.342298, train error 55.40,  val loss 1.353142, percent error 56.10\n",
            "Epoch     4, train loss 1.257246, train error 52.85,  val loss 1.291256, percent error 55.50\n",
            "Epoch     5, train loss 1.160185, train error 47.78,  val loss 1.176549, percent error 50.60\n",
            "Epoch     6, train loss 1.112202, train error 42.67,  val loss 1.132915, percent error 46.20\n",
            "Epoch     7, train loss 0.926306, train error 35.15,  val loss 0.955133, percent error 37.00\n",
            "Epoch     8, train loss 0.851842, train error 34.20,  val loss 0.897334, percent error 38.20\n",
            "Epoch     9, train loss 0.809385, train error 31.68,  val loss 0.862997, percent error 35.30\n",
            "Epoch    10, train loss 0.643468, train error 24.72,  val loss 0.711481, percent error 27.50\n",
            "Epoch    11, train loss 0.582318, train error 22.38,  val loss 0.678449, percent error 25.30\n",
            "Epoch    12, train loss 0.551811, train error 20.47,  val loss 0.631409, percent error 24.50\n",
            "Epoch    13, train loss 0.480169, train error 18.40,  val loss 0.589904, percent error 22.50\n",
            "Epoch    14, train loss 0.504457, train error 19.43,  val loss 0.588394, percent error 23.00\n",
            "Epoch    15, train loss 0.393541, train error 13.85,  val loss 0.516342, percent error 20.20\n",
            "Epoch    16, train loss 0.349115, train error 12.82,  val loss 0.464005, percent error 16.90\n",
            "Epoch    17, train loss 0.337832, train error 12.82,  val loss 0.498043, percent error 18.40\n",
            "Epoch    18, train loss 0.308780, train error 11.53,  val loss 0.453819, percent error 15.70\n",
            "Epoch    19, train loss 0.241307, train error 8.40,  val loss 0.383564, percent error 13.70\n",
            "Epoch    20, train loss 0.208010, train error 6.88,  val loss 0.367358, percent error 12.30\n",
            "Epoch    21, train loss 0.191800, train error 6.47,  val loss 0.368118, percent error 12.50\n",
            "Epoch    22, train loss 0.179783, train error 6.10,  val loss 0.343540, percent error 12.50\n",
            "Epoch    23, train loss 0.177856, train error 6.03,  val loss 0.356233, percent error 12.10\n",
            "Epoch    24, train loss 0.159237, train error 5.32,  val loss 0.321697, percent error 10.80\n",
            "Epoch    25, train loss 0.164264, train error 5.65,  val loss 0.344807, percent error 12.00\n",
            "Epoch    26, train loss 0.167411, train error 5.62,  val loss 0.342703, percent error 11.90\n",
            "Epoch    27, train loss 0.148436, train error 5.15,  val loss 0.330251, percent error 11.40\n",
            "Epoch    28, train loss 0.126710, train error 4.15,  val loss 0.315106, percent error 11.50\n",
            "Epoch    29, train loss 0.131729, train error 4.55,  val loss 0.318060, percent error 10.90\n",
            "Epoch    30, train loss 0.109815, train error 3.57,  val loss 0.284308, percent error 9.40\n",
            "Epoch    31, train loss 0.115644, train error 4.05,  val loss 0.317469, percent error 11.40\n",
            "Epoch    32, train loss 0.123097, train error 4.25,  val loss 0.324254, percent error 10.70\n",
            "Epoch    33, train loss 0.117336, train error 3.90,  val loss 0.348042, percent error 11.80\n",
            "Epoch    34, train loss 0.096116, train error 3.03,  val loss 0.302148, percent error 9.90\n",
            "Epoch    35, train loss 0.091321, train error 2.68,  val loss 0.306010, percent error 9.60\n",
            "Epoch    36, train loss 0.081738, train error 2.40,  val loss 0.314130, percent error 10.00\n",
            "Epoch    37, train loss 0.085005, train error 2.97,  val loss 0.306046, percent error 9.10\n",
            "Epoch    38, train loss 0.094066, train error 3.20,  val loss 0.336098, percent error 11.00\n",
            "Epoch    39, train loss 0.093148, train error 3.10,  val loss 0.354774, percent error 10.40\n",
            "Epoch    40, train loss 0.075458, train error 2.47,  val loss 0.327765, percent error 10.20\n",
            "Epoch    41, train loss 0.062077, train error 1.82,  val loss 0.315642, percent error 9.80\n",
            "Epoch    42, train loss 0.060516, train error 1.47,  val loss 0.323908, percent error 9.40\n",
            "Epoch    43, train loss 0.061458, train error 1.45,  val loss 0.332808, percent error 10.30\n",
            "Epoch    44, train loss 0.058798, train error 1.45,  val loss 0.330845, percent error 9.90\n",
            "Epoch    45, train loss 0.056712, train error 1.38,  val loss 0.339511, percent error 10.50\n",
            "Epoch    46, train loss 0.054848, train error 1.30,  val loss 0.328190, percent error 9.90\n",
            "Epoch    47, train loss 0.060004, train error 1.70,  val loss 0.342499, percent error 9.10\n",
            "Epoch    48, train loss 0.053297, train error 1.35,  val loss 0.344366, percent error 9.50\n",
            "Epoch    49, train loss 0.050171, train error 1.07,  val loss 0.339187, percent error 9.80\n",
            "Epoch    50, train loss 0.049976, train error 1.20,  val loss 0.340000, percent error 10.00\n",
            "Epoch    51, train loss 0.047862, train error 1.05,  val loss 0.344629, percent error 9.50\n",
            "Epoch    52, train loss 0.047719, train error 1.07,  val loss 0.352853, percent error 9.90\n",
            "Epoch    53, train loss 0.049217, train error 1.20,  val loss 0.348710, percent error 9.70\n",
            "Epoch    54, train loss 0.045038, train error 1.00,  val loss 0.338874, percent error 8.90\n",
            "Epoch    55, train loss 0.044569, train error 0.93,  val loss 0.342545, percent error 9.20\n",
            "Epoch    56, train loss 0.046757, train error 1.00,  val loss 0.347617, percent error 8.60\n",
            "Epoch    57, train loss 0.043196, train error 0.85,  val loss 0.350069, percent error 9.10\n",
            "Epoch    58, train loss 0.042432, train error 0.72,  val loss 0.359165, percent error 8.70\n",
            "Epoch    59, train loss 0.041805, train error 0.75,  val loss 0.356022, percent error 9.00\n",
            "Epoch    60, train loss 0.037008, train error 0.65,  val loss 0.351866, percent error 8.90\n",
            "Epoch    61, train loss 0.036699, train error 0.62,  val loss 0.357529, percent error 9.20\n",
            "Epoch    62, train loss 0.037898, train error 0.68,  val loss 0.366616, percent error 9.90\n",
            "Epoch    63, train loss 0.035552, train error 0.70,  val loss 0.355168, percent error 9.50\n",
            "Epoch    64, train loss 0.034532, train error 0.55,  val loss 0.358974, percent error 9.40\n",
            "Epoch    65, train loss 0.035361, train error 0.53,  val loss 0.367882, percent error 9.20\n",
            "Epoch    66, train loss 0.033740, train error 0.55,  val loss 0.357978, percent error 9.10\n",
            "Epoch    67, train loss 0.033119, train error 0.50,  val loss 0.360759, percent error 9.00\n",
            "Epoch    68, train loss 0.032834, train error 0.47,  val loss 0.365984, percent error 9.30\n",
            "Epoch    69, train loss 0.032329, train error 0.50,  val loss 0.364202, percent error 8.70\n",
            "Epoch    70, train loss 0.032832, train error 0.45,  val loss 0.374622, percent error 9.40\n",
            "Epoch    71, train loss 0.032465, train error 0.55,  val loss 0.371998, percent error 9.30\n",
            "Epoch    72, train loss 0.033795, train error 0.60,  val loss 0.377525, percent error 9.50\n",
            "Epoch    73, train loss 0.031108, train error 0.43,  val loss 0.366488, percent error 9.10\n",
            "Epoch    74, train loss 0.030406, train error 0.38,  val loss 0.371156, percent error 9.20\n",
            "Epoch    75, train loss 0.029908, train error 0.43,  val loss 0.371845, percent error 9.30\n",
            "Epoch    76, train loss 0.030102, train error 0.43,  val loss 0.369301, percent error 9.20\n",
            "Epoch    77, train loss 0.029667, train error 0.40,  val loss 0.368140, percent error 8.90\n",
            "Epoch    78, train loss 0.030470, train error 0.53,  val loss 0.372261, percent error 8.90\n",
            "Epoch    79, train loss 0.028459, train error 0.38,  val loss 0.376379, percent error 9.40\n",
            "Epoch    80, train loss 0.028138, train error 0.25,  val loss 0.376525, percent error 9.00\n",
            "Epoch    81, train loss 0.027935, train error 0.30,  val loss 0.374374, percent error 9.00\n",
            "Epoch    82, train loss 0.027990, train error 0.28,  val loss 0.381075, percent error 9.30\n",
            "Epoch    83, train loss 0.027852, train error 0.35,  val loss 0.379863, percent error 8.90\n",
            "Epoch    84, train loss 0.028040, train error 0.25,  val loss 0.379378, percent error 9.00\n",
            "Epoch    85, train loss 0.027309, train error 0.25,  val loss 0.381554, percent error 9.00\n",
            "Epoch    86, train loss 0.027180, train error 0.20,  val loss 0.384137, percent error 9.10\n",
            "Epoch    87, train loss 0.027384, train error 0.30,  val loss 0.379183, percent error 9.00\n",
            "Epoch    88, train loss 0.027060, train error 0.25,  val loss 0.383597, percent error 8.80\n",
            "Epoch    89, train loss 0.026719, train error 0.25,  val loss 0.385946, percent error 9.00\n",
            "Epoch    90, train loss 0.026894, train error 0.22,  val loss 0.381733, percent error 8.80\n",
            "Epoch    91, train loss 0.026268, train error 0.28,  val loss 0.382986, percent error 8.70\n",
            "Epoch    92, train loss 0.026882, train error 0.12,  val loss 0.388564, percent error 9.20\n",
            "Epoch    93, train loss 0.026061, train error 0.15,  val loss 0.385509, percent error 8.90\n",
            "Epoch    94, train loss 0.025868, train error 0.15,  val loss 0.386028, percent error 9.00\n",
            "Epoch    95, train loss 0.025662, train error 0.20,  val loss 0.385221, percent error 8.80\n",
            "Epoch    96, train loss 0.025562, train error 0.18,  val loss 0.387607, percent error 8.90\n",
            "Epoch    97, train loss 0.025763, train error 0.15,  val loss 0.389738, percent error 9.10\n",
            "Epoch    98, train loss 0.025583, train error 0.12,  val loss 0.391249, percent error 9.00\n",
            "Epoch    99, train loss 0.025120, train error 0.18,  val loss 0.388257, percent error 8.80\n"
          ]
        },
        {
          "data": {
            "image/png": "[encoded data removed]",
            "text/plain": [
              "<Figure size 640x480 with 1 Axes>"
            ]
          },
          "metadata": {},
          "output_type": "display_data"
        }
      ],
      "source": [
        "# choose cross entropy loss function (equation 5.24 in the loss notes)\n",
        "loss_function = nn.CrossEntropyLoss()\n",
        "# construct SGD optimizer and initialize learning rate and momentum\n",
        "optimizer = torch.optim.SGD(model.parameters(), lr = 0.05, momentum=0.9)\n",
        "# object that decreases learning rate by half every 20 epochs\n",
        "scheduler = StepLR(optimizer, step_size=20, gamma=0.5)\n",
        "# create 100 dummy data points and store in data loader class\n",
        "x_train = torch.tensor(train_data_x.transpose().astype('float32'))\n",
        "y_train = torch.tensor(train_data_y.astype('long')).long()\n",
        "x_val= torch.tensor(val_data_x.transpose().astype('float32'))\n",
        "y_val = torch.tensor(val_data_y.astype('long')).long()\n",
        "\n",
        "# load the data into a class that creates the batches\n",
        "data_loader = DataLoader(TensorDataset(x_train,y_train), batch_size=100, shuffle=True, worker_init_fn=np.random.seed(1))\n",
        "\n",
        "# Initialize model weights\n",
        "model.apply(weights_init)\n",
        "\n",
        "# loop over the dataset n_epoch times\n",
        "n_epoch = 100\n",
        "# store the loss and the % correct at each epoch\n",
        "losses_train = np.zeros((n_epoch))\n",
        "errors_train = np.zeros((n_epoch))\n",
        "losses_val = np.zeros((n_epoch))\n",
        "errors_val = np.zeros((n_epoch))\n",
        "\n",
        "for epoch in range(n_epoch):\n",
        "  # loop over batches\n",
        "  for i, data in enumerate(data_loader):\n",
        "    # retrieve inputs and labels for this batch\n",
        "    x_batch, y_batch = data\n",
        "    # zero the parameter gradients\n",
        "    optimizer.zero_grad()\n",
        "    # forward pass -- calculate model output\n",
        "    pred = model(x_batch[:,None,:])\n",
        "    # compute the loss\n",
        "    loss = loss_function(pred, y_batch)\n",
        "    # backward pass\n",
        "    loss.backward()\n",
        "    # SGD update\n",
        "    optimizer.step()\n",
        "\n",
        "  # Run whole dataset to get statistics -- normally wouldn't do this\n",
        "  pred_train = model(x_train[:,None,:])\n",
        "  pred_val = model(x_val[:,None,:])\n",
        "  _, predicted_train_class = torch.max(pred_train.data, 1)\n",
        "  _, predicted_val_class = torch.max(pred_val.data, 1)\n",
        "  errors_train[epoch] = 100 - 100 * (predicted_train_class == y_train).float().sum() / len(y_train)\n",
        "  errors_val[epoch]= 100 - 100 * (predicted_val_class == y_val).float().sum() / len(y_val)\n",
        "  losses_train[epoch] = loss_function(pred_train, y_train).item()\n",
        "  losses_val[epoch]= loss_function(pred_val, y_val).item()\n",
        "  print(f'Epoch {epoch:5d}, train loss {losses_train[epoch]:.6f}, train error {errors_train[epoch]:3.2f},  val loss {losses_val[epoch]:.6f}, percent error {errors_val[epoch]:3.2f}')\n",
        "\n",
        "  # tell scheduler to consider updating learning rate\n",
        "  scheduler.step()\n",
        "\n",
        "# Plot the results\n",
        "fig, ax = plt.subplots()\n",
        "ax.plot(errors_train,'r-',label='train')\n",
        "ax.plot(errors_val,'b-',label='validation')\n",
        "ax.set_ylim(0,100); ax.set_xlim(0,n_epoch)\n",
        "ax.set_xlabel('Epoch'); ax.set_ylabel('Error')\n",
        "ax.set_title('Part I: Validation Result %3.2f'%(errors_val[-1]))\n",
        "ax.legend()\n",
        "plt.show()"
      ]
    }
  ],
  "metadata": {
    "colab": {
      "authorship_tag": "ABX9TyNb46PJB/CC1pcHGfjpUUZg",
      "include_colab_link": true,
      "provenance": []
    },
    "kernelspec": {
      "display_name": "cs",
      "language": "python",
      "name": "python3"
    },
    "language_info": {
      "codemirror_mode": {
        "name": "ipython",
        "version": 3
      },
      "file_extension": ".py",
      "mimetype": "text/x-python",
      "name": "python",
      "nbconvert_exporter": "python",
      "pygments_lexer": "ipython3",
      "version": "3.12.4"
    }
  },
  "nbformat": 4,
  "nbformat_minor": 0
}
